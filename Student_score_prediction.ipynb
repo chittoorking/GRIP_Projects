{
  "nbformat": 4,
  "nbformat_minor": 0,
  "metadata": {
    "colab": {
      "name": "Student_score_prediction.ipynb",
      "provenance": [],
      "collapsed_sections": []
    },
    "kernelspec": {
      "name": "python3",
      "display_name": "Python 3"
    },
    "language_info": {
      "name": "python"
    }
  },
  "cells": [
    {
      "cell_type": "markdown",
      "metadata": {
        "id": "XR-GoBXSaPvn"
      },
      "source": [
        "**Simple Linear Regression project** "
      ]
    },
    {
      "cell_type": "markdown",
      "metadata": {
        "id": "KutQXckwZmmD"
      },
      "source": [
        "In this project we will predict the percentage of marks that a student is expected to score based upon the number of hours they have studied ."
      ]
    },
    {
      "cell_type": "markdown",
      "metadata": {
        "id": "d5gzOtz3bBvK"
      },
      "source": [
        "**Step 1:**"
      ]
    },
    {
      "cell_type": "markdown",
      "metadata": {
        "id": "YVLrk67QbKf7"
      },
      "source": [
        "Let us import all libraries required for doing this project"
      ]
    },
    {
      "cell_type": "code",
      "metadata": {
        "id": "tiLlASISbJlT"
      },
      "source": [
        "import pandas as pd \n",
        "import numpy as np\n",
        "import matplotlib.pyplot as plt\n",
        "%matplotlib inline"
      ],
      "execution_count": 77,
      "outputs": []
    },
    {
      "cell_type": "markdown",
      "metadata": {
        "id": "A_8Xs15ab77Y"
      },
      "source": [
        "**Step 2:**"
      ]
    },
    {
      "cell_type": "markdown",
      "metadata": {
        "id": "NuEy2tjLcAnW"
      },
      "source": [
        "The data is provided in a remote URL .\n",
        "Let us read the data from the remote link."
      ]
    },
    {
      "cell_type": "code",
      "metadata": {
        "colab": {
          "base_uri": "https://localhost:8080/"
        },
        "id": "9jRGrHqqaNCq",
        "outputId": "1791f438-622c-40e9-cc06-127ae4cea958"
      },
      "source": [
        "data_url = \"http://bit.ly/w-data\"\n",
        "students_data=pd.read_csv(data_url)\n",
        "print(\"Students data imported successully\")"
      ],
      "execution_count": 78,
      "outputs": [
        {
          "output_type": "stream",
          "name": "stdout",
          "text": [
            "Students data imported successully\n"
          ]
        }
      ]
    },
    {
      "cell_type": "markdown",
      "metadata": {
        "id": "s7GoiUNYc1n8"
      },
      "source": [
        "**Step 3:**"
      ]
    },
    {
      "cell_type": "markdown",
      "metadata": {
        "id": "CdvERY-Sc9Au"
      },
      "source": [
        "Let us preview the data set of students"
      ]
    },
    {
      "cell_type": "code",
      "metadata": {
        "colab": {
          "base_uri": "https://localhost:8080/"
        },
        "id": "hIozx2hTcm7r",
        "outputId": "67876880-9201-495f-f5e6-9a52778accf0"
      },
      "source": [
        "# Checking the number of rows and columns in the dataset\n",
        "students_data.shape"
      ],
      "execution_count": 79,
      "outputs": [
        {
          "output_type": "execute_result",
          "data": {
            "text/plain": [
              "(25, 2)"
            ]
          },
          "metadata": {},
          "execution_count": 79
        }
      ]
    },
    {
      "cell_type": "code",
      "metadata": {
        "colab": {
          "base_uri": "https://localhost:8080/",
          "height": 359
        },
        "id": "N9ZDcHuydeg3",
        "outputId": "8139582b-91a1-4725-9ce4-3645f968b2dd"
      },
      "source": [
        "#Previewing the first 10 entries of dataset\n",
        "students_data.head(10)"
      ],
      "execution_count": 80,
      "outputs": [
        {
          "output_type": "execute_result",
          "data": {
            "text/html": [
              "<div>\n",
              "<style scoped>\n",
              "    .dataframe tbody tr th:only-of-type {\n",
              "        vertical-align: middle;\n",
              "    }\n",
              "\n",
              "    .dataframe tbody tr th {\n",
              "        vertical-align: top;\n",
              "    }\n",
              "\n",
              "    .dataframe thead th {\n",
              "        text-align: right;\n",
              "    }\n",
              "</style>\n",
              "<table border=\"1\" class=\"dataframe\">\n",
              "  <thead>\n",
              "    <tr style=\"text-align: right;\">\n",
              "      <th></th>\n",
              "      <th>Hours</th>\n",
              "      <th>Scores</th>\n",
              "    </tr>\n",
              "  </thead>\n",
              "  <tbody>\n",
              "    <tr>\n",
              "      <th>0</th>\n",
              "      <td>2.5</td>\n",
              "      <td>21</td>\n",
              "    </tr>\n",
              "    <tr>\n",
              "      <th>1</th>\n",
              "      <td>5.1</td>\n",
              "      <td>47</td>\n",
              "    </tr>\n",
              "    <tr>\n",
              "      <th>2</th>\n",
              "      <td>3.2</td>\n",
              "      <td>27</td>\n",
              "    </tr>\n",
              "    <tr>\n",
              "      <th>3</th>\n",
              "      <td>8.5</td>\n",
              "      <td>75</td>\n",
              "    </tr>\n",
              "    <tr>\n",
              "      <th>4</th>\n",
              "      <td>3.5</td>\n",
              "      <td>30</td>\n",
              "    </tr>\n",
              "    <tr>\n",
              "      <th>5</th>\n",
              "      <td>1.5</td>\n",
              "      <td>20</td>\n",
              "    </tr>\n",
              "    <tr>\n",
              "      <th>6</th>\n",
              "      <td>9.2</td>\n",
              "      <td>88</td>\n",
              "    </tr>\n",
              "    <tr>\n",
              "      <th>7</th>\n",
              "      <td>5.5</td>\n",
              "      <td>60</td>\n",
              "    </tr>\n",
              "    <tr>\n",
              "      <th>8</th>\n",
              "      <td>8.3</td>\n",
              "      <td>81</td>\n",
              "    </tr>\n",
              "    <tr>\n",
              "      <th>9</th>\n",
              "      <td>2.7</td>\n",
              "      <td>25</td>\n",
              "    </tr>\n",
              "  </tbody>\n",
              "</table>\n",
              "</div>"
            ],
            "text/plain": [
              "   Hours  Scores\n",
              "0    2.5      21\n",
              "1    5.1      47\n",
              "2    3.2      27\n",
              "3    8.5      75\n",
              "4    3.5      30\n",
              "5    1.5      20\n",
              "6    9.2      88\n",
              "7    5.5      60\n",
              "8    8.3      81\n",
              "9    2.7      25"
            ]
          },
          "metadata": {},
          "execution_count": 80
        }
      ]
    },
    {
      "cell_type": "markdown",
      "metadata": {
        "id": "ALao0C8rd5gS"
      },
      "source": [
        "**Step 4:**"
      ]
    },
    {
      "cell_type": "markdown",
      "metadata": {
        "id": "oV71ZqqfeAqs"
      },
      "source": [
        "Let us visualize our dataset on a 2-D graph and see if there is any intuitive relationship between the data."
      ]
    },
    {
      "cell_type": "code",
      "metadata": {
        "colab": {
          "base_uri": "https://localhost:8080/",
          "height": 295
        },
        "id": "6rpxnv_ZdpyJ",
        "outputId": "0fbeaa7a-8729-4c92-e2ba-2efbcb64f3e3"
      },
      "source": [
        "students_data.plot(x='Hours',y='Scores',style='*g')\n",
        "plt.title('Hours vs. percentage')\n",
        "plt.xlabel('Hours studied')\n",
        "plt.ylabel('Percentage Score')\n",
        "plt.show()"
      ],
      "execution_count": 81,
      "outputs": [
        {
          "output_type": "display_data",
          "data": {
            "image/png": "[encoded data removed]",
            "text/plain": [
              "<Figure size 432x288 with 1 Axes>"
            ]
          },
          "metadata": {
            "needs_background": "light"
          }
        }
      ]
    },
    {
      "cell_type": "markdown",
      "metadata": {
        "id": "kr0_VlbxhP_-"
      },
      "source": [
        "**From the visualization, we can clearly see there is a positive linear relation between the number of hours and percentage of score**"
      ]
    },
    {
      "cell_type": "markdown",
      "metadata": {
        "id": "HXAW8BSnjroI"
      },
      "source": [
        "**Step 5:**"
      ]
    },
    {
      "cell_type": "markdown",
      "metadata": {
        "id": "xZ9-DV0Gjx3J"
      },
      "source": [
        "**Data preparation**"
      ]
    },
    {
      "cell_type": "code",
      "metadata": {
        "colab": {
          "base_uri": "https://localhost:8080/"
        },
        "id": "2UA7At1yfsRJ",
        "outputId": "631db46b-aa29-4397-a0c6-45affb982f81"
      },
      "source": [
        "Attributes= students_data.iloc[:,:-1].values\n",
        "Labels= students_data.iloc[:,1].values\n",
        "print(Attributes)\n",
        "print(Labels)"
      ],
      "execution_count": 82,
      "outputs": [
        {
          "output_type": "stream",
          "name": "stdout",
          "text": [
            "[[2.5]\n",
            " [5.1]\n",
            " [3.2]\n",
            " [8.5]\n",
            " [3.5]\n",
            " [1.5]\n",
            " [9.2]\n",
            " [5.5]\n",
            " [8.3]\n",
            " [2.7]\n",
            " [7.7]\n",
            " [5.9]\n",
            " [4.5]\n",
            " [3.3]\n",
            " [1.1]\n",
            " [8.9]\n",
            " [2.5]\n",
            " [1.9]\n",
            " [6.1]\n",
            " [7.4]\n",
            " [2.7]\n",
            " [4.8]\n",
            " [3.8]\n",
            " [6.9]\n",
            " [7.8]]\n",
            "[21 47 27 75 30 20 88 60 81 25 85 62 41 42 17 95 30 24 67 69 30 54 35 76\n",
            " 86]\n"
          ]
        }
      ]
    },
    {
      "cell_type": "markdown",
      "metadata": {
        "id": "jwPz7vZjkS6C"
      },
      "source": [
        "**Splitting data into training and testing sets.**"
      ]
    },
    {
      "cell_type": "code",
      "metadata": {
        "id": "b6J6N8Apka9I"
      },
      "source": [
        "from sklearn.model_selection import train_test_split\n",
        "X_train ,X_test ,y_train , y_test =train_test_split(Attributes,Labels,test_size=0.25,random_state=0)"
      ],
      "execution_count": 95,
      "outputs": []
    },
    {
      "cell_type": "markdown",
      "metadata": {
        "id": "rNovCK7Nk8rq"
      },
      "source": [
        "**Step 6:**"
      ]
    },
    {
      "cell_type": "markdown",
      "metadata": {
        "id": "SAIuCCxZlCim"
      },
      "source": [
        "**Selecting and training the model**"
      ]
    },
    {
      "cell_type": "code",
      "metadata": {
        "colab": {
          "base_uri": "https://localhost:8080/"
        },
        "id": "-lF0CxzflBkI",
        "outputId": "80451813-1665-4745-b5c5-97a3877d0c18"
      },
      "source": [
        "\n",
        "from sklearn.linear_model import LinearRegression\n",
        "model = LinearRegression()\n",
        "model.fit(X_train,y_train)\n",
        "\n",
        "print('Training the model successful')"
      ],
      "execution_count": 96,
      "outputs": [
        {
          "output_type": "stream",
          "name": "stdout",
          "text": [
            "Training the model successful\n"
          ]
        }
      ]
    },
    {
      "cell_type": "markdown",
      "metadata": {
        "id": "DWO6Ye4TmqPN"
      },
      "source": [
        "**Let us plot the regression line obtained from model**"
      ]
    },
    {
      "cell_type": "code",
      "metadata": {
        "colab": {
          "base_uri": "https://localhost:8080/"
        },
        "id": "GRpHjD7yl8jS",
        "outputId": "aa7e1709-ddee-4d7b-9afd-9d3cfc2c4d98"
      },
      "source": [
        "m=model.coef_\n",
        "c=model.intercept_\n",
        "print(\"%f \"% m )\n",
        "print(\"%f \"% c )"
      ],
      "execution_count": 97,
      "outputs": [
        {
          "output_type": "stream",
          "name": "stdout",
          "text": [
            "9.941678 \n",
            "1.932204 \n"
          ]
        }
      ]
    },
    {
      "cell_type": "code",
      "metadata": {
        "colab": {
          "base_uri": "https://localhost:8080/",
          "height": 265
        },
        "id": "WZExe9Oqnx77",
        "outputId": "69d2b9ef-d980-4df3-af03-783f39d8860d"
      },
      "source": [
        "line = m*X_train + c\n",
        "#Plotting line on the training data\n",
        "plt.scatter(X_train,y_train)\n",
        "plt.plot(X_train,line)\n",
        "plt.show()"
      ],
      "execution_count": 98,
      "outputs": [
        {
          "output_type": "display_data",
          "data": {
            "image/png": "[encoded data removed]",
            "text/plain": [
              "<Figure size 432x288 with 1 Axes>"
            ]
          },
          "metadata": {
            "needs_background": "light"
          }
        }
      ]
    },
    {
      "cell_type": "markdown",
      "metadata": {
        "id": "nO5WnmlQpI3B"
      },
      "source": [
        "**Making Predictions on the test data**"
      ]
    },
    {
      "cell_type": "code",
      "metadata": {
        "colab": {
          "base_uri": "https://localhost:8080/"
        },
        "id": "tY6oSNEPpal0",
        "outputId": "58b712cf-9b26-4504-a39a-c8c71ee47c0c"
      },
      "source": [
        "#Testing data\n",
        "print(X_test) "
      ],
      "execution_count": 99,
      "outputs": [
        {
          "output_type": "stream",
          "name": "stdout",
          "text": [
            "[[1.5]\n",
            " [3.2]\n",
            " [7.4]\n",
            " [2.5]\n",
            " [5.9]\n",
            " [3.8]\n",
            " [1.9]]\n"
          ]
        }
      ]
    },
    {
      "cell_type": "code",
      "metadata": {
        "id": "6m40U7kqp-qF"
      },
      "source": [
        "#Predicted scores of Test data\n",
        "y_pred = model.predict(X_test)"
      ],
      "execution_count": 100,
      "outputs": []
    },
    {
      "cell_type": "markdown",
      "metadata": {
        "id": "5s6y6_BmvOzd"
      },
      "source": [
        "**Visualizing predicted score vs actual score of test data**"
      ]
    },
    {
      "cell_type": "code",
      "metadata": {
        "colab": {
          "base_uri": "https://localhost:8080/",
          "height": 265
        },
        "id": "VirMICMouych",
        "outputId": "5620fae8-347c-4360-8ad8-ea1bfffb45c9"
      },
      "source": [
        "plt.scatter(X_test,y_test)\n",
        "plt.scatter(X_test,y_pred)\n",
        "plt.legend([\"Actual\",\"Predicted\"])\n",
        "plt.show()"
      ],
      "execution_count": 101,
      "outputs": [
        {
          "output_type": "display_data",
          "data": {
            "image/png": "[encoded data removed]",
            "text/plain": [
              "<Figure size 432x288 with 1 Axes>"
            ]
          },
          "metadata": {
            "needs_background": "light"
          }
        }
      ]
    },
    {
      "cell_type": "markdown",
      "metadata": {
        "id": "54_oooE7v1Nm"
      },
      "source": [
        "**Comparing Actual vs Predicted**"
      ]
    },
    {
      "cell_type": "code",
      "metadata": {
        "colab": {
          "base_uri": "https://localhost:8080/",
          "height": 266
        },
        "id": "JBjKpMNtvjRe",
        "outputId": "486e405b-e028-4375-f8c8-0070275084bb"
      },
      "source": [
        "df = pd.DataFrame({'Actual':y_test,'Predicted':y_pred})\n",
        "df"
      ],
      "execution_count": 102,
      "outputs": [
        {
          "output_type": "execute_result",
          "data": {
            "text/html": [
              "<div>\n",
              "<style scoped>\n",
              "    .dataframe tbody tr th:only-of-type {\n",
              "        vertical-align: middle;\n",
              "    }\n",
              "\n",
              "    .dataframe tbody tr th {\n",
              "        vertical-align: top;\n",
              "    }\n",
              "\n",
              "    .dataframe thead th {\n",
              "        text-align: right;\n",
              "    }\n",
              "</style>\n",
              "<table border=\"1\" class=\"dataframe\">\n",
              "  <thead>\n",
              "    <tr style=\"text-align: right;\">\n",
              "      <th></th>\n",
              "      <th>Actual</th>\n",
              "      <th>Predicted</th>\n",
              "    </tr>\n",
              "  </thead>\n",
              "  <tbody>\n",
              "    <tr>\n",
              "      <th>0</th>\n",
              "      <td>20</td>\n",
              "      <td>16.844722</td>\n",
              "    </tr>\n",
              "    <tr>\n",
              "      <th>1</th>\n",
              "      <td>27</td>\n",
              "      <td>33.745575</td>\n",
              "    </tr>\n",
              "    <tr>\n",
              "      <th>2</th>\n",
              "      <td>69</td>\n",
              "      <td>75.500624</td>\n",
              "    </tr>\n",
              "    <tr>\n",
              "      <th>3</th>\n",
              "      <td>30</td>\n",
              "      <td>26.786400</td>\n",
              "    </tr>\n",
              "    <tr>\n",
              "      <th>4</th>\n",
              "      <td>62</td>\n",
              "      <td>60.588106</td>\n",
              "    </tr>\n",
              "    <tr>\n",
              "      <th>5</th>\n",
              "      <td>35</td>\n",
              "      <td>39.710582</td>\n",
              "    </tr>\n",
              "    <tr>\n",
              "      <th>6</th>\n",
              "      <td>24</td>\n",
              "      <td>20.821393</td>\n",
              "    </tr>\n",
              "  </tbody>\n",
              "</table>\n",
              "</div>"
            ],
            "text/plain": [
              "   Actual  Predicted\n",
              "0      20  16.844722\n",
              "1      27  33.745575\n",
              "2      69  75.500624\n",
              "3      30  26.786400\n",
              "4      62  60.588106\n",
              "5      35  39.710582\n",
              "6      24  20.821393"
            ]
          },
          "metadata": {},
          "execution_count": 102
        }
      ]
    },
    {
      "cell_type": "markdown",
      "metadata": {
        "id": "EU57bODsCS8A"
      },
      "source": [
        "**Let us predict with our own data**"
      ]
    },
    {
      "cell_type": "code",
      "metadata": {
        "colab": {
          "base_uri": "https://localhost:8080/"
        },
        "id": "FVkCPYXYCKWE",
        "outputId": "19d1c5f9-8c1b-4ace-9bc4-ea113337353f"
      },
      "source": [
        "hours = [[9.25]]\n",
        "Score_pred = model.predict(hours)\n",
        "print(\"Number of hours studied = {}\".format(hours))\n",
        "print(\"Predicted Score = {}\".format(Score_pred))"
      ],
      "execution_count": 103,
      "outputs": [
        {
          "output_type": "stream",
          "name": "stdout",
          "text": [
            "Number of hours studied = [[9.25]]\n",
            "Predicted Score = [93.89272889]\n"
          ]
        }
      ]
    },
    {
      "cell_type": "markdown",
      "metadata": {
        "id": "vMYJG7EaEiZQ"
      },
      "source": [
        "**Evaluating the model**\n"
      ]
    },
    {
      "cell_type": "markdown",
      "metadata": {
        "id": "6FIzSqBBFzBu"
      },
      "source": [
        "Let us evaluate the performance of our model .For our case let us use mean square error."
      ]
    },
    {
      "cell_type": "code",
      "metadata": {
        "colab": {
          "base_uri": "https://localhost:8080/"
        },
        "id": "OCwBl_HXDWIf",
        "outputId": "796dcd87-0b5c-4d2d-adc1-329ead81f2eb"
      },
      "source": [
        "from sklearn import metrics \n",
        "error = metrics.mean_absolute_error(y_test,y_pred)\n",
        "print(\"Mean Absolute Error :\",error)"
      ],
      "execution_count": 104,
      "outputs": [
        {
          "output_type": "stream",
          "name": "stdout",
          "text": [
            "Mean Absolute Error : 4.130879918502482\n"
          ]
        }
      ]
    },
    {
      "cell_type": "code",
      "metadata": {
        "id": "PZSR2PLrFsAg"
      },
      "source": [
        ""
      ],
      "execution_count": 104,
      "outputs": []
    }
  ]
}